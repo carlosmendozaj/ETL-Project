{
 "cells": [
  {
   "cell_type": "code",
   "execution_count": 10,
   "metadata": {},
   "outputs": [],
   "source": [
    "import pandas as pd\n",
    "import json"
   ]
  },
  {
   "cell_type": "code",
   "execution_count": 3,
   "metadata": {},
   "outputs": [],
   "source": [
    "df = pd.read_csv('reddit_wsb.csv')\n",
    "df = df.dropna()"
   ]
  },
  {
   "cell_type": "code",
   "execution_count": 4,
   "metadata": {},
   "outputs": [],
   "source": [
    "stock = ['GME','AMC']"
   ]
  },
  {
   "cell_type": "code",
   "execution_count": 5,
   "metadata": {
    "tags": []
   },
   "outputs": [
    {
     "output_type": "execute_result",
     "data": {
      "text/plain": [
       "{'GME':                                                    title  \\\n",
       " 2                                        Exit the system   \n",
       " 6            SHORT STOCK DOESN'T HAVE AN EXPIRATION DATE   \n",
       " 7                                     THIS IS THE MOMENT   \n",
       " 10     We need to keep this movement going, we all ca...   \n",
       " 12     Once you're done with GME - $AG and $SLV, the ...   \n",
       " ...                                                  ...   \n",
       " 48108  AMC's Former Owner And Largest Shareholder, Da...   \n",
       " 48120            When did this Subreddit become therapy?   \n",
       " 48121  We shouldn't be worrying about inflation. Inst...   \n",
       " 48142  I built a program that tracks mentions and sen...   \n",
       " 48184  GME Holders! $10,000,000 Is FUD To Keep You To...   \n",
       " \n",
       "                                                     body  comms_num  \\\n",
       " 2      The CEO of NASDAQ pushed to halt trading “to g...         47   \n",
       " 6      Hedgefund whales are spreading disinfo saying ...         53   \n",
       " 7      Life isn't fair. My mother always told me that...        178   \n",
       " 10      I believe right now is one of those rare oppo...         70   \n",
       " 12     You guys are champs. GME... who would have tho...         16   \n",
       " ...                                                  ...        ...   \n",
       " 48108  Dudes, you can't squeeze a 422M shs float like...        274   \n",
       " 48120  I swear if I see one more “I invested in GME b...       1182   \n",
       " 48121  Before you jump to conclusions, and say \"OP, y...         66   \n",
       " 48142  This post is in continuation of a series of po...         78   \n",
       " 48184  Hello,\\n\\nI have been buying GME since May 202...         66   \n",
       " \n",
       "                 timestamp  day  month  \n",
       " 2     2021-01-28 21:30:35   28      1  \n",
       " 6     2021-01-28 21:26:27   28      1  \n",
       " 7     2021-01-28 21:19:31   28      1  \n",
       " 10    2021-01-28 21:18:25   28      1  \n",
       " 12    2021-01-28 21:17:10   28      1  \n",
       " ...                   ...  ...    ...  \n",
       " 48108 2021-05-24 21:23:41   24      5  \n",
       " 48120 2021-05-24 09:27:32   24      5  \n",
       " 48121 2021-05-24 09:13:59   24      5  \n",
       " 48142 2021-05-24 00:31:19   24      5  \n",
       " 48184 2021-05-22 22:03:50   22      5  \n",
       " \n",
       " [8629 rows x 6 columns],\n",
       " 'AMC':                                                    title  \\\n",
       " 10     We need to keep this movement going, we all ca...   \n",
       " 21     We need to stick together and 💎🖐 the ever lovi...   \n",
       " 55     GameStop, Blackberry, AMC Sees Trade Halts on ...   \n",
       " 74                                       very conflicted   \n",
       " 92     We need to talk about all the real risks of a ...   \n",
       " ...                                                  ...   \n",
       " 47881  Daym it feels good to be a GME hodler in times...   \n",
       " 47969                   AMC WILL HIT 5 BY END OF SUMMER.   \n",
       " 48022  where to buy GME stocks in Australia?! SelfWea...   \n",
       " 48108  AMC's Former Owner And Largest Shareholder, Da...   \n",
       " 48142  I built a program that tracks mentions and sen...   \n",
       " \n",
       "                                                     body  comms_num  \\\n",
       " 10      I believe right now is one of those rare oppo...         70   \n",
       " 21     This is our time. If anyone will listen to you...        323   \n",
       " 55     Original Article: [https://www.coinspeaker.com...        280   \n",
       " 74     wanting to buy tomorrow with a 1K budget, a lo...        298   \n",
       " 92     This sub is at over 4m users, getting internat...        248   \n",
       " ...                                                  ...        ...   \n",
       " 47881   \\n\\n[GME Daily Chart](https://preview.redd.it...        203   \n",
       " 47969  AMC has filed to conduct an \"at-the-market\" (A...        216   \n",
       " 48022  so i been looking into how to vote and i found...         81   \n",
       " 48108  Dudes, you can't squeeze a 422M shs float like...        274   \n",
       " 48142  This post is in continuation of a series of po...         78   \n",
       " \n",
       "                 timestamp  day  month  \n",
       " 10    2021-01-28 21:18:25   28      1  \n",
       " 21    2021-01-28 20:54:08   28      1  \n",
       " 55    2021-01-28 19:21:58   28      1  \n",
       " 74    2021-01-28 18:45:43   28      1  \n",
       " 92    2021-01-28 17:36:44   28      1  \n",
       " ...                   ...  ...    ...  \n",
       " 47881 2021-05-27 04:31:41   27      5  \n",
       " 47969 2021-05-26 10:32:00   26      5  \n",
       " 48022 2021-05-25 18:45:32   25      5  \n",
       " 48108 2021-05-24 21:23:41   24      5  \n",
       " 48142 2021-05-24 00:31:19   24      5  \n",
       " \n",
       " [3130 rows x 6 columns]}"
      ]
     },
     "metadata": {},
     "execution_count": 5
    }
   ],
   "source": [
    "df_list = {}\n",
    "for i in stock:\n",
    "    df_list[i]={}\n",
    "    df_list[i] = df[df['title'].str.contains(i) | df['body'].str.contains(i)]\n",
    "    df_list[i] = df_list[i][['title','body','comms_num','timestamp']]\n",
    "    df_list[i]['timestamp'] = df_list[i]['timestamp'].apply(pd.Timestamp)\n",
    "    df_list[i]['day'] = df_list[i]['timestamp'].dt.day\n",
    "    df_list[i]['month'] = df_list[i]['timestamp'].dt.month\n",
    "df_list\n",
    "\n"
   ]
  },
  {
   "cell_type": "code",
   "execution_count": 29,
   "metadata": {},
   "outputs": [],
   "source": [
    "list_comments = []\n",
    "for i in stock:\n",
    "    list_comments.append(df_list[i].groupby(['month','day']).sum())"
   ]
  },
  {
   "cell_type": "code",
   "execution_count": 80,
   "metadata": {},
   "outputs": [
    {
     "output_type": "execute_result",
     "data": {
      "text/plain": [
       "        id  comms_num\n",
       "0    01-28      27953\n",
       "1    01-29     161335\n",
       "2    01-30     122047\n",
       "3    01-31      85414\n",
       "4    02-01      63682\n",
       "..     ...        ...\n",
       "113  05-27       1435\n",
       "114  05-28        124\n",
       "115  05-30       2883\n",
       "116  05-31        724\n",
       "117  06-01        880\n",
       "\n",
       "[118 rows x 2 columns]"
      ],
      "text/html": "<div>\n<style scoped>\n    .dataframe tbody tr th:only-of-type {\n        vertical-align: middle;\n    }\n\n    .dataframe tbody tr th {\n        vertical-align: top;\n    }\n\n    .dataframe thead th {\n        text-align: right;\n    }\n</style>\n<table border=\"1\" class=\"dataframe\">\n  <thead>\n    <tr style=\"text-align: right;\">\n      <th></th>\n      <th>id</th>\n      <th>comms_num</th>\n    </tr>\n  </thead>\n  <tbody>\n    <tr>\n      <th>0</th>\n      <td>01-28</td>\n      <td>27953</td>\n    </tr>\n    <tr>\n      <th>1</th>\n      <td>01-29</td>\n      <td>161335</td>\n    </tr>\n    <tr>\n      <th>2</th>\n      <td>01-30</td>\n      <td>122047</td>\n    </tr>\n    <tr>\n      <th>3</th>\n      <td>01-31</td>\n      <td>85414</td>\n    </tr>\n    <tr>\n      <th>4</th>\n      <td>02-01</td>\n      <td>63682</td>\n    </tr>\n    <tr>\n      <th>...</th>\n      <td>...</td>\n      <td>...</td>\n    </tr>\n    <tr>\n      <th>113</th>\n      <td>05-27</td>\n      <td>1435</td>\n    </tr>\n    <tr>\n      <th>114</th>\n      <td>05-28</td>\n      <td>124</td>\n    </tr>\n    <tr>\n      <th>115</th>\n      <td>05-30</td>\n      <td>2883</td>\n    </tr>\n    <tr>\n      <th>116</th>\n      <td>05-31</td>\n      <td>724</td>\n    </tr>\n    <tr>\n      <th>117</th>\n      <td>06-01</td>\n      <td>880</td>\n    </tr>\n  </tbody>\n</table>\n<p>118 rows × 2 columns</p>\n</div>"
     },
     "metadata": {},
     "execution_count": 80
    }
   ],
   "source": [
    "df = list_comments[0].reset_index()\n",
    "df[[ 'month','day']] = df[['month','day']].astype(str)\n",
    "df['id'] = df[['month','day']].agg('-'.join, axis=1) \n",
    "df = df[['id','comms_num']]\n",
    "df['id'] = pd.to_datetime(df['id'], format='%m-%d').dt.strftime('%m-%d')\n",
    "df\n",
    "\n"
   ]
  },
  {
   "cell_type": "code",
   "execution_count": 81,
   "metadata": {},
   "outputs": [],
   "source": [
    "json_wbs = df.to_csv('wsb.csv')\n"
   ]
  },
  {
   "cell_type": "code",
   "execution_count": null,
   "metadata": {},
   "outputs": [],
   "source": []
  }
 ],
 "metadata": {
  "interpreter": {
   "hash": "fb4d580ab292efc0da1949e84b64560354e62ed5eae68f50831eaccaa9211c44"
  },
  "kernelspec": {
   "name": "python3",
   "display_name": "Python 3.8.5 64-bit ('ETL-Project-UMqeF8CI': venv)"
  },
  "language_info": {
   "codemirror_mode": {
    "name": "ipython",
    "version": 3
   },
   "file_extension": ".py",
   "mimetype": "text/x-python",
   "name": "python",
   "nbconvert_exporter": "python",
   "pygments_lexer": "ipython3",
   "version": "3.8.5"
  },
  "metadata": {
   "interpreter": {
    "hash": "31f2aee4e71d21fbe5cf8b01ff0e069b9275f58929596ceb00d14d90e3e16cd6"
   }
  }
 },
 "nbformat": 4,
 "nbformat_minor": 2
}