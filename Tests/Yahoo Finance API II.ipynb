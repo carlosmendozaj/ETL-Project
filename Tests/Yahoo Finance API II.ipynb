{
 "cells": [
  {
   "cell_type": "code",
   "execution_count": 2,
   "id": "ecb07791",
   "metadata": {},
   "outputs": [],
   "source": [
    "# What to install:\n",
    "# pip install pandas-datareader\n",
    "# pip install yahoo-finance\n",
    "\n",
    "# Imports (Yahoo Finance or Pandas Reader, compatible with Yahoo and Google Finance)\n",
    "import yfinance as yf\n",
    "\n",
    "import pandas as pd\n",
    "from pandas_datareader import data\n",
    "\n",
    "# For visual support, if needed\n",
    "import matplotlib.pyplot as plt"
   ]
  },
  {
   "cell_type": "code",
   "execution_count": 6,
   "id": "4d4ccde6",
   "metadata": {},
   "outputs": [],
   "source": [
    "# Define the instruments to download. We would like to see Apple, Microsoft and the S&P500 index.\n",
    "tickers = ['GME', 'AMC', '^GSPC']\n",
    "\n",
    "# We would like all available data from 01/01/2000 until 12/31/2016.\n",
    "start_date = '2010-01-01'\n",
    "end_date = '2016-12-31'\n",
    "\n",
    "# User pandas_reader.data.DataReader to load the desired data. As simple as that.\n",
    "panel_data = data.DataReader('INPX', 'google', start_date, end_date)"
   ]
  },
  {
   "cell_type": "code",
   "execution_count": null,
   "id": "b8c49d5e",
   "metadata": {},
   "outputs": [],
   "source": [
    "# Stocks to search for\n",
    "stock = ['GME','AMC']"
   ]
  }
 ],
 "metadata": {
  "kernelspec": {
   "display_name": "Python 3",
   "language": "python",
   "name": "python3"
  },
  "language_info": {
   "codemirror_mode": {
    "name": "ipython",
    "version": 3
   },
   "file_extension": ".py",
   "mimetype": "text/x-python",
   "name": "python",
   "nbconvert_exporter": "python",
   "pygments_lexer": "ipython3",
   "version": "3.8.8"
  }
 },
 "nbformat": 4,
 "nbformat_minor": 5
}
