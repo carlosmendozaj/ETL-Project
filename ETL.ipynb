{
 "metadata": {
  "language_info": {
   "codemirror_mode": {
    "name": "ipython",
    "version": 3
   },
   "file_extension": ".py",
   "mimetype": "text/x-python",
   "name": "python",
   "nbconvert_exporter": "python",
   "pygments_lexer": "ipython3",
   "version": "3.8.5"
  },
  "orig_nbformat": 2,
  "kernelspec": {
   "name": "python3",
   "display_name": "Python 3.8.5 64-bit"
  },
  "metadata": {
   "interpreter": {
    "hash": "31f2aee4e71d21fbe5cf8b01ff0e069b9275f58929596ceb00d14d90e3e16cd6"
   }
  },
  "interpreter": {
   "hash": "31f2aee4e71d21fbe5cf8b01ff0e069b9275f58929596ceb00d14d90e3e16cd6"
  }
 },
 "nbformat": 4,
 "nbformat_minor": 2,
 "cells": [
  {
   "cell_type": "code",
   "execution_count": 5,
   "metadata": {},
   "outputs": [],
   "source": [
    "import pandas as pd"
   ]
  },
  {
   "cell_type": "code",
   "execution_count": 6,
   "metadata": {},
   "outputs": [],
   "source": [
    "df = pd.read_csv('reddit_wsb.csv')\n",
    "df = df.dropna()"
   ]
  },
  {
   "cell_type": "code",
   "execution_count": 13,
   "metadata": {},
   "outputs": [],
   "source": [
    "stock = ['GME','AMC']"
   ]
  },
  {
   "cell_type": "code",
   "execution_count": 16,
   "metadata": {
    "tags": []
   },
   "outputs": [],
   "source": [
    "df_list = {}\n",
    "for i in stock:\n",
    "    df_list[i]={}\n",
    "    df_list[i] = df[df['title'].str.contains(i)]\n",
    "    df_list[i] = df_list[i][['title','body','comms_num','timestamp']]\n",
    "    df_list[i]['timestamp'] = df_list[i]['timestamp'].apply(pd.Timestamp)\n",
    "    df_list[i]['timestamp'] = df_list[i]['timestamp'].dt.month\n",
    "    \n",
    "\n"
   ]
  },
  {
   "cell_type": "code",
   "execution_count": 17,
   "metadata": {},
   "outputs": [
    {
     "output_type": "execute_result",
     "data": {
      "text/plain": [
       "{'GME':                                                    title  \\\n",
       " 12     Once you're done with GME - $AG and $SLV, the ...   \n",
       " 13     $GME price has nothing to do with fundamentals...   \n",
       " 35        My brokerage wants to force close my GME calls   \n",
       " 46     The real price for GME is infinity, but at tha...   \n",
       " 62     Is it too late to get on the GME spaceship🚀🚀🚀 ...   \n",
       " ...                                                  ...   \n",
       " 47958        yet one more (very short and crude) $GME DD   \n",
       " 47988                                  GME Anchored VWAP   \n",
       " 48006  GME is a rocket launch site >$190 (5-star set up)   \n",
       " 48022  where to buy GME stocks in Australia?! SelfWea...   \n",
       " 48184  GME Holders! $10,000,000 Is FUD To Keep You To...   \n",
       " \n",
       "                                                     body  comms_num  \\\n",
       " 12     You guys are champs. GME... who would have tho...         16   \n",
       " 13     Firstly, all of you diamond hands and smooth-b...         61   \n",
       " 35     My brokerage called me and asked me to close m...        215   \n",
       " 46     Lets imagine GME has gone to 50,000. The marke...        120   \n",
       " 62     I’m considering buying when the market opens, ...        295   \n",
       " ...                                                  ...        ...   \n",
       " 47958  tl;dr - $GME is still very cheap. Even if, lik...         60   \n",
       " 47988  [https://www.tradingview.com/x/1kzwgopj/](http...        340   \n",
       " 48006  WSBrethren,\\n\\nI want to call attention to the...       3196   \n",
       " 48022  so i been looking into how to vote and i found...         81   \n",
       " 48184  Hello,\\n\\nI have been buying GME since May 202...         66   \n",
       " \n",
       "                  timestamp  \n",
       " 12     2021-01-28 21:17:10  \n",
       " 13     2021-01-28 21:15:58  \n",
       " 35     2021-01-28 20:18:32  \n",
       " 46     2021-01-28 19:57:53  \n",
       " 62     2021-01-28 19:11:46  \n",
       " ...                    ...  \n",
       " 47958  2021-05-26 13:02:42  \n",
       " 47988  2021-05-26 07:19:13  \n",
       " 48006  2021-05-26 01:40:49  \n",
       " 48022  2021-05-25 18:45:32  \n",
       " 48184  2021-05-22 22:03:50  \n",
       " \n",
       " [4024 rows x 4 columns],\n",
       " 'AMC':                                                    title  \\\n",
       " 55     GameStop, Blackberry, AMC Sees Trade Halts on ...   \n",
       " 187    Hold your positions, also AMC is not bot propa...   \n",
       " 189    Anybody else notice a lot of AMC shilling? Big...   \n",
       " 193    Let us turn NOK and AMC into the next GME as a...   \n",
       " 199    Why AMC, Blackberry, Nok went down during afte...   \n",
       " ...                                                  ...   \n",
       " 47725  SpotGamma Analysis - AMC RKT Gamma Squeeze: “E...   \n",
       " 47805  For all of you retarded apes talking about the...   \n",
       " 47823  Why Cinema Stocks like AMC will benefit from r...   \n",
       " 47969                   AMC WILL HIT 5 BY END OF SUMMER.   \n",
       " 48108  AMC's Former Owner And Largest Shareholder, Da...   \n",
       " \n",
       "                                                     body  comms_num  \\\n",
       " 55     Original Article: [https://www.coinspeaker.com...        280   \n",
       " 187    The fact that we were attacked this hard means...        524   \n",
       " 189    Not dogging on the AMC play at all but what’s ...        302   \n",
       " 193    Well, do it!\\n\\nYOU ONLY LIVE ONCE!\\n\\nEDIT: I...        212   \n",
       " 199    Hedge fund managers, Short sellers, and Market...       3876   \n",
       " ...                                                  ...        ...   \n",
       " 47725  \" AMC, RKT and other meme stocks are ripping h...         16   \n",
       " 47805  So, here we go!\\n\\nAs I read several times the...       1018   \n",
       " 47823  Hi Everyone! I did some research on cinema sto...         46   \n",
       " 47969  AMC has filed to conduct an \"at-the-market\" (A...        216   \n",
       " 48108  Dudes, you can't squeeze a 422M shs float like...        274   \n",
       " \n",
       "                  timestamp  \n",
       " 55     2021-01-28 19:21:58  \n",
       " 187    2021-01-28 11:08:56  \n",
       " 189    2021-01-28 11:03:29  \n",
       " 193    2021-01-28 10:58:00  \n",
       " 199    2021-01-28 10:50:38  \n",
       " ...                    ...  \n",
       " 47725  2021-05-28 07:14:14  \n",
       " 47805  2021-05-27 22:14:24  \n",
       " 47823  2021-05-27 12:00:08  \n",
       " 47969  2021-05-26 10:32:00  \n",
       " 48108  2021-05-24 21:23:41  \n",
       " \n",
       " [1520 rows x 4 columns]}"
      ]
     },
     "metadata": {},
     "execution_count": 17
    }
   ],
   "source": [
    "df_list\n"
   ]
  },
  {
   "cell_type": "code",
   "execution_count": null,
   "metadata": {},
   "outputs": [],
   "source": [
    "import requests\n",
    "\n",
    "url = \"https://apidojo-yahoo-finance-v1.p.rapidapi.com/stock/v3/get-historical-data\"\n",
    "\n",
    "querystring = {\"symbol\":\"AMRN\",\"region\":\"US\"}\n",
    "\n",
    "headers = {\n",
    "    'x-rapidapi-key': \"5bc5dccdc4mshaf5d4c5d86ce7e9p11251cjsn0a8a4501538c\",\n",
    "    'x-rapidapi-host': \"apidojo-yahoo-finance-v1.p.rapidapi.com\"\n",
    "    }\n",
    "\n",
    "response = requests.request(\"GET\", url, headers=headers, params=querystring)\n",
    "\n",
    "print(response.text)"
   ]
  }
 ]
}