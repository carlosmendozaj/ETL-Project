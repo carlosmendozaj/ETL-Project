{
 "metadata": {
  "language_info": {
   "codemirror_mode": {
    "name": "ipython",
    "version": 3
   },
   "file_extension": ".py",
   "mimetype": "text/x-python",
   "name": "python",
   "nbconvert_exporter": "python",
   "pygments_lexer": "ipython3",
   "version": "3.8.5"
  },
  "orig_nbformat": 2,
  "kernelspec": {
   "name": "python3",
   "display_name": "Python 3.8.5 64-bit"
  },
  "metadata": {
   "interpreter": {
    "hash": "31f2aee4e71d21fbe5cf8b01ff0e069b9275f58929596ceb00d14d90e3e16cd6"
   }
  },
  "interpreter": {
   "hash": "31f2aee4e71d21fbe5cf8b01ff0e069b9275f58929596ceb00d14d90e3e16cd6"
  }
 },
 "nbformat": 4,
 "nbformat_minor": 2,
 "cells": [
  {
   "cell_type": "code",
   "execution_count": 5,
   "metadata": {},
   "outputs": [],
   "source": [
    "import pandas as pd"
   ]
  },
  {
   "cell_type": "code",
   "execution_count": 6,
   "metadata": {},
   "outputs": [],
   "source": [
    "df = pd.read_csv('reddit_wsb.csv')\n",
    "df = df.dropna()"
   ]
  },
  {
   "cell_type": "code",
   "execution_count": 13,
   "metadata": {},
   "outputs": [],
   "source": [
    "stock = ['GME','AMC']"
   ]
  },
  {
   "cell_type": "code",
   "execution_count": 34,
   "metadata": {
    "tags": []
   },
   "outputs": [
    {
     "output_type": "execute_result",
     "data": {
      "text/plain": [
       "{'GME':                                                    title  \\\n",
       " 2                                        Exit the system   \n",
       " 6            SHORT STOCK DOESN'T HAVE AN EXPIRATION DATE   \n",
       " 7                                     THIS IS THE MOMENT   \n",
       " 10     We need to keep this movement going, we all ca...   \n",
       " 12     Once you're done with GME - $AG and $SLV, the ...   \n",
       " ...                                                  ...   \n",
       " 48108  AMC's Former Owner And Largest Shareholder, Da...   \n",
       " 48120            When did this Subreddit become therapy?   \n",
       " 48121  We shouldn't be worrying about inflation. Inst...   \n",
       " 48142  I built a program that tracks mentions and sen...   \n",
       " 48184  GME Holders! $10,000,000 Is FUD To Keep You To...   \n",
       " \n",
       "                                                     body  comms_num  \\\n",
       " 2      The CEO of NASDAQ pushed to halt trading “to g...         47   \n",
       " 6      Hedgefund whales are spreading disinfo saying ...         53   \n",
       " 7      Life isn't fair. My mother always told me that...        178   \n",
       " 10      I believe right now is one of those rare oppo...         70   \n",
       " 12     You guys are champs. GME... who would have tho...         16   \n",
       " ...                                                  ...        ...   \n",
       " 48108  Dudes, you can't squeeze a 422M shs float like...        274   \n",
       " 48120  I swear if I see one more “I invested in GME b...       1182   \n",
       " 48121  Before you jump to conclusions, and say \"OP, y...         66   \n",
       " 48142  This post is in continuation of a series of po...         78   \n",
       " 48184  Hello,\\n\\nI have been buying GME since May 202...         66   \n",
       " \n",
       "                 timestamp  day  month  \n",
       " 2     2021-01-28 21:30:35   28      1  \n",
       " 6     2021-01-28 21:26:27   28      1  \n",
       " 7     2021-01-28 21:19:31   28      1  \n",
       " 10    2021-01-28 21:18:25   28      1  \n",
       " 12    2021-01-28 21:17:10   28      1  \n",
       " ...                   ...  ...    ...  \n",
       " 48108 2021-05-24 21:23:41   24      5  \n",
       " 48120 2021-05-24 09:27:32   24      5  \n",
       " 48121 2021-05-24 09:13:59   24      5  \n",
       " 48142 2021-05-24 00:31:19   24      5  \n",
       " 48184 2021-05-22 22:03:50   22      5  \n",
       " \n",
       " [8629 rows x 6 columns],\n",
       " 'AMC':                                                    title  \\\n",
       " 10     We need to keep this movement going, we all ca...   \n",
       " 21     We need to stick together and 💎🖐 the ever lovi...   \n",
       " 55     GameStop, Blackberry, AMC Sees Trade Halts on ...   \n",
       " 74                                       very conflicted   \n",
       " 92     We need to talk about all the real risks of a ...   \n",
       " ...                                                  ...   \n",
       " 47881  Daym it feels good to be a GME hodler in times...   \n",
       " 47969                   AMC WILL HIT 5 BY END OF SUMMER.   \n",
       " 48022  where to buy GME stocks in Australia?! SelfWea...   \n",
       " 48108  AMC's Former Owner And Largest Shareholder, Da...   \n",
       " 48142  I built a program that tracks mentions and sen...   \n",
       " \n",
       "                                                     body  comms_num  \\\n",
       " 10      I believe right now is one of those rare oppo...         70   \n",
       " 21     This is our time. If anyone will listen to you...        323   \n",
       " 55     Original Article: [https://www.coinspeaker.com...        280   \n",
       " 74     wanting to buy tomorrow with a 1K budget, a lo...        298   \n",
       " 92     This sub is at over 4m users, getting internat...        248   \n",
       " ...                                                  ...        ...   \n",
       " 47881   \\n\\n[GME Daily Chart](https://preview.redd.it...        203   \n",
       " 47969  AMC has filed to conduct an \"at-the-market\" (A...        216   \n",
       " 48022  so i been looking into how to vote and i found...         81   \n",
       " 48108  Dudes, you can't squeeze a 422M shs float like...        274   \n",
       " 48142  This post is in continuation of a series of po...         78   \n",
       " \n",
       "                 timestamp  day  month  \n",
       " 10    2021-01-28 21:18:25   28      1  \n",
       " 21    2021-01-28 20:54:08   28      1  \n",
       " 55    2021-01-28 19:21:58   28      1  \n",
       " 74    2021-01-28 18:45:43   28      1  \n",
       " 92    2021-01-28 17:36:44   28      1  \n",
       " ...                   ...  ...    ...  \n",
       " 47881 2021-05-27 04:31:41   27      5  \n",
       " 47969 2021-05-26 10:32:00   26      5  \n",
       " 48022 2021-05-25 18:45:32   25      5  \n",
       " 48108 2021-05-24 21:23:41   24      5  \n",
       " 48142 2021-05-24 00:31:19   24      5  \n",
       " \n",
       " [3130 rows x 6 columns]}"
      ]
     },
     "metadata": {},
     "execution_count": 34
    }
   ],
   "source": [
    "df_list = {}\n",
    "for i in stock:\n",
    "    df_list[i]={}\n",
    "    df_list[i] = df[df['title'].str.contains(i) | df['body'].str.contains(i)]\n",
    "    df_list[i] = df_list[i][['title','body','comms_num','timestamp']]\n",
    "    df_list[i]['timestamp'] = df_list[i]['timestamp'].apply(pd.Timestamp)\n",
    "    df_list[i]['day'] = df_list[i]['timestamp'].dt.day\n",
    "    df_list[i]['month'] = df_list[i]['timestamp'].dt.month\n",
    "df_list\n",
    "\n"
   ]
  },
  {
   "cell_type": "code",
   "execution_count": 30,
   "metadata": {},
   "outputs": [
    {
     "output_type": "execute_result",
     "data": {
      "text/plain": [
       "           comms_num\n",
       "month day           \n",
       "1     28        5950\n",
       "      29      111970\n",
       "      30       40711\n",
       "      31       43774\n",
       "2     1        25749\n",
       "...              ...\n",
       "5     25          81\n",
       "      26        3656\n",
       "      27        1221\n",
       "      28          37\n",
       "      30        1847\n",
       "\n",
       "[93 rows x 1 columns]"
      ],
      "text/html": "<div>\n<style scoped>\n    .dataframe tbody tr th:only-of-type {\n        vertical-align: middle;\n    }\n\n    .dataframe tbody tr th {\n        vertical-align: top;\n    }\n\n    .dataframe thead th {\n        text-align: right;\n    }\n</style>\n<table border=\"1\" class=\"dataframe\">\n  <thead>\n    <tr style=\"text-align: right;\">\n      <th></th>\n      <th></th>\n      <th>comms_num</th>\n    </tr>\n    <tr>\n      <th>month</th>\n      <th>day</th>\n      <th></th>\n    </tr>\n  </thead>\n  <tbody>\n    <tr>\n      <th rowspan=\"4\" valign=\"top\">1</th>\n      <th>28</th>\n      <td>5950</td>\n    </tr>\n    <tr>\n      <th>29</th>\n      <td>111970</td>\n    </tr>\n    <tr>\n      <th>30</th>\n      <td>40711</td>\n    </tr>\n    <tr>\n      <th>31</th>\n      <td>43774</td>\n    </tr>\n    <tr>\n      <th>2</th>\n      <th>1</th>\n      <td>25749</td>\n    </tr>\n    <tr>\n      <th>...</th>\n      <th>...</th>\n      <td>...</td>\n    </tr>\n    <tr>\n      <th rowspan=\"5\" valign=\"top\">5</th>\n      <th>25</th>\n      <td>81</td>\n    </tr>\n    <tr>\n      <th>26</th>\n      <td>3656</td>\n    </tr>\n    <tr>\n      <th>27</th>\n      <td>1221</td>\n    </tr>\n    <tr>\n      <th>28</th>\n      <td>37</td>\n    </tr>\n    <tr>\n      <th>30</th>\n      <td>1847</td>\n    </tr>\n  </tbody>\n</table>\n<p>93 rows × 1 columns</p>\n</div>"
     },
     "metadata": {},
     "execution_count": 30
    }
   ],
   "source": [
    "list_comments = []\n",
    "for i in stock:\n",
    "    list_comments.append(df_list[i].groupby(['month','day']).sum())\n"
   ]
  },
  {
   "cell_type": "code",
   "execution_count": 31,
   "metadata": {},
   "outputs": [
    {
     "output_type": "execute_result",
     "data": {
      "text/plain": [
       "           comms_num\n",
       "month day           \n",
       "1     28        5950\n",
       "      29      111970\n",
       "      30       40711\n",
       "      31       43774\n",
       "2     1        25749\n",
       "...              ...\n",
       "5     25          81\n",
       "      26        3656\n",
       "      27        1221\n",
       "      28          37\n",
       "      30        1847\n",
       "\n",
       "[93 rows x 1 columns]"
      ],
      "text/html": "<div>\n<style scoped>\n    .dataframe tbody tr th:only-of-type {\n        vertical-align: middle;\n    }\n\n    .dataframe tbody tr th {\n        vertical-align: top;\n    }\n\n    .dataframe thead th {\n        text-align: right;\n    }\n</style>\n<table border=\"1\" class=\"dataframe\">\n  <thead>\n    <tr style=\"text-align: right;\">\n      <th></th>\n      <th></th>\n      <th>comms_num</th>\n    </tr>\n    <tr>\n      <th>month</th>\n      <th>day</th>\n      <th></th>\n    </tr>\n  </thead>\n  <tbody>\n    <tr>\n      <th rowspan=\"4\" valign=\"top\">1</th>\n      <th>28</th>\n      <td>5950</td>\n    </tr>\n    <tr>\n      <th>29</th>\n      <td>111970</td>\n    </tr>\n    <tr>\n      <th>30</th>\n      <td>40711</td>\n    </tr>\n    <tr>\n      <th>31</th>\n      <td>43774</td>\n    </tr>\n    <tr>\n      <th>2</th>\n      <th>1</th>\n      <td>25749</td>\n    </tr>\n    <tr>\n      <th>...</th>\n      <th>...</th>\n      <td>...</td>\n    </tr>\n    <tr>\n      <th rowspan=\"5\" valign=\"top\">5</th>\n      <th>25</th>\n      <td>81</td>\n    </tr>\n    <tr>\n      <th>26</th>\n      <td>3656</td>\n    </tr>\n    <tr>\n      <th>27</th>\n      <td>1221</td>\n    </tr>\n    <tr>\n      <th>28</th>\n      <td>37</td>\n    </tr>\n    <tr>\n      <th>30</th>\n      <td>1847</td>\n    </tr>\n  </tbody>\n</table>\n<p>93 rows × 1 columns</p>\n</div>"
     },
     "metadata": {},
     "execution_count": 31
    }
   ],
   "source": [
    "list_comments[0]"
   ]
  },
  {
   "cell_type": "code",
   "execution_count": 32,
   "metadata": {},
   "outputs": [
    {
     "output_type": "execute_result",
     "data": {
      "text/plain": [
       "           comms_num\n",
       "month day           \n",
       "1     28        5459\n",
       "      29        6844\n",
       "      30       11794\n",
       "      31        5513\n",
       "2     1         7031\n",
       "...              ...\n",
       "5     26         216\n",
       "      27        1064\n",
       "      28         209\n",
       "      29         135\n",
       "      30        2491\n",
       "\n",
       "[79 rows x 1 columns]"
      ],
      "text/html": "<div>\n<style scoped>\n    .dataframe tbody tr th:only-of-type {\n        vertical-align: middle;\n    }\n\n    .dataframe tbody tr th {\n        vertical-align: top;\n    }\n\n    .dataframe thead th {\n        text-align: right;\n    }\n</style>\n<table border=\"1\" class=\"dataframe\">\n  <thead>\n    <tr style=\"text-align: right;\">\n      <th></th>\n      <th></th>\n      <th>comms_num</th>\n    </tr>\n    <tr>\n      <th>month</th>\n      <th>day</th>\n      <th></th>\n    </tr>\n  </thead>\n  <tbody>\n    <tr>\n      <th rowspan=\"4\" valign=\"top\">1</th>\n      <th>28</th>\n      <td>5459</td>\n    </tr>\n    <tr>\n      <th>29</th>\n      <td>6844</td>\n    </tr>\n    <tr>\n      <th>30</th>\n      <td>11794</td>\n    </tr>\n    <tr>\n      <th>31</th>\n      <td>5513</td>\n    </tr>\n    <tr>\n      <th>2</th>\n      <th>1</th>\n      <td>7031</td>\n    </tr>\n    <tr>\n      <th>...</th>\n      <th>...</th>\n      <td>...</td>\n    </tr>\n    <tr>\n      <th rowspan=\"5\" valign=\"top\">5</th>\n      <th>26</th>\n      <td>216</td>\n    </tr>\n    <tr>\n      <th>27</th>\n      <td>1064</td>\n    </tr>\n    <tr>\n      <th>28</th>\n      <td>209</td>\n    </tr>\n    <tr>\n      <th>29</th>\n      <td>135</td>\n    </tr>\n    <tr>\n      <th>30</th>\n      <td>2491</td>\n    </tr>\n  </tbody>\n</table>\n<p>79 rows × 1 columns</p>\n</div>"
     },
     "metadata": {},
     "execution_count": 32
    }
   ],
   "source": [
    "list_comments[1]"
   ]
  },
  {
   "cell_type": "code",
   "execution_count": null,
   "metadata": {},
   "outputs": [],
   "source": []
  }
 ]
}